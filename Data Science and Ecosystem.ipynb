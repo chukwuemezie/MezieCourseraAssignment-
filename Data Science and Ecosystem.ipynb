{
 "cells": [
  {
   "cell_type": "markdown",
   "id": "0586f737",
   "metadata": {},
   "source": [
    "#  Data Science Tools and Ecosystem\n",
    "   \n",
    "\n"
   ]
  },
  {
   "cell_type": "markdown",
   "id": "47296dcb",
   "metadata": {},
   "source": [
    "\n",
    "## In this notebook, Data Science Tools and Ecosystem are summarized.\n"
   ]
  },
  {
   "cell_type": "markdown",
   "id": "97d8238f",
   "metadata": {},
   "source": [
    "#### Objectives:\n",
    "* Popular languages that data scientists use\n",
    "* Libraries used by data scientist\n",
    "* Tools used in data science\n",
    "* Arithemetic expressionn examples in Python\n",
    "* Multiply and add numbers\n",
    "* code that converts minutes into hours"
   ]
  },
  {
   "cell_type": "markdown",
   "id": "48531c42",
   "metadata": {},
   "source": [
    "Some of the popular languages that data scientists use are:\n",
    "1. Python\n",
    "2. julia\n",
    "3. R\n",
    "4. C++\n"
   ]
  },
  {
   "cell_type": "markdown",
   "id": "2df532e7",
   "metadata": {},
   "source": [
    "Some of the commonly used libraries used by Data Scientists include:\n",
    "1. Python\n",
    "2. Pandas\n",
    "3. Matplotlib\n",
    "4. Seaborn\n",
    "5. Scikit-learn \n",
    "6. TensorFlow\n",
    "7. PyTorch\n",
    "8. SciPy\n",
    "9. statsmodel"
   ]
  },
  {
   "cell_type": "markdown",
   "id": "9b438e5a",
   "metadata": {},
   "source": [
    "| Data Science Tools| Description                                              |\n",
    "|------------------ |----------------------------------------------------------\n",
    "| Python            | Programming language       |\n",
    "| Jupyter Notebook  | interactive computing enviroment                         |\n",
    "| R                 | Statiscal programming language                           |\n",
    "| Pandas            | library for data manipilation and analysis               |\n",
    "| Seaborn           | Statistical graphics Library                             |"
   ]
  },
  {
   "cell_type": "markdown",
   "id": "189932a2",
   "metadata": {},
   "source": [
    "### Below are a few examples of evaluating arithemtic expressions in Python:\n",
    "1. Addition: 2 + 3 = 5\n",
    "2. Subtraction: 5 - 2 = 3\n",
    "3. Multiplication: 2 * 3 = 6\n",
    "4. Division: 6 / 2 = 3\n",
    "5. Exponentiation: 2 ** 3 = 8\n",
    "6. Modulo: 7 % 2 = 1"
   ]
  },
  {
   "cell_type": "code",
   "execution_count": 1,
   "id": "0c115b47",
   "metadata": {},
   "outputs": [
    {
     "name": "stdout",
     "output_type": "stream",
     "text": [
      "17\n"
     ]
    }
   ],
   "source": [
    "# This is a simple arithemtic expression to multiply then add integers\n",
    "multply_add = (3*4)+5\n",
    "print(multply_add)"
   ]
  },
  {
   "cell_type": "code",
   "execution_count": 4,
   "id": "9cd231d3",
   "metadata": {},
   "outputs": [
    {
     "data": {
      "text/plain": [
       "3.3333333333333335"
      ]
     },
     "execution_count": 4,
     "metadata": {},
     "output_type": "execute_result"
    }
   ],
   "source": [
    "def mins_to_hours(mins):\n",
    "    hours = mins / 60\n",
    "    return hours\n",
    "mins_to_hours(200)\n",
    "\n",
    "    "
   ]
  },
  {
   "cell_type": "markdown",
   "id": "79b25aa7",
   "metadata": {},
   "source": [
    "## NWABUDE CHIEMEZIE INNOCENT"
   ]
  },
  {
   "cell_type": "code",
   "execution_count": null,
   "id": "b25190cd",
   "metadata": {},
   "outputs": [],
   "source": []
  }
 ],
 "metadata": {
  "kernelspec": {
   "display_name": "Python 3 (ipykernel)",
   "language": "python",
   "name": "python3"
  },
  "language_info": {
   "codemirror_mode": {
    "name": "ipython",
    "version": 3
   },
   "file_extension": ".py",
   "mimetype": "text/x-python",
   "name": "python",
   "nbconvert_exporter": "python",
   "pygments_lexer": "ipython3",
   "version": "3.10.9"
  }
 },
 "nbformat": 4,
 "nbformat_minor": 5
}
